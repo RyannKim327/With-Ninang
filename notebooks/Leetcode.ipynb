{
 "cells": [
  {
   "cell_type": "markdown",
   "id": "f4849ccf",
   "metadata": {},
   "source": [
    "### Tutorial [ Refesh the basics ]\n",
    "---\n",
    "> Bale for this tutorial, back to zero ulit, kumbaga start tayo from prints and input, and parang expect ko din na mostly gagamit tayo doon ng ialang fundamentals. In this case, aaralin natin, what are the possible programs kumbaga."
   ]
  },
  {
   "cell_type": "code",
   "execution_count": 15,
   "id": "0ce2d222",
   "metadata": {},
   "outputs": [
    {
     "name": "stdout",
     "output_type": "stream",
     "text": [
      "Hello World\n",
      "Hello Ninang\n"
     ]
    }
   ],
   "source": [
    "# This is a comment, meaning to say, ito ang gagamitin natin to communicate from each other.\n",
    "# So start tayo sa print, which is sobrang basic na sayo yun.\n",
    "print(\"Hello World\")\n",
    "print(\"Hello Ninang\")"
   ]
  },
  {
   "cell_type": "markdown",
   "id": "a06a3843",
   "metadata": {},
   "source": [
    "> As you notice, bale na read nya with new line, but in the next cell, gagamitin naitn ung sep at end, and baka next time, ituro ko ung flush at file, which is very useful sa python"
   ]
  },
  {
   "cell_type": "code",
   "execution_count": 16,
   "id": "ced3ef3f",
   "metadata": {},
   "outputs": [
    {
     "name": "stdout",
     "output_type": "stream",
     "text": [
      "Hello...World//Hello Ninang//"
     ]
    }
   ],
   "source": [
    "print(\"Hello\", \"World\", sep=\"...\", end=\"//\")\n",
    "print(\"Hello Ninang\", sep=\"...\", end=\"//\")"
   ]
  },
  {
   "cell_type": "markdown",
   "id": "1b2f7a39",
   "metadata": {},
   "source": [
    "> As you notice, walang new line di ba, or parang naging one line na sya ganun. Si python has 4 primary parameters, aside sa String or ung result o output\n",
    "1. sep (string) [default: \" \"] - also known as separator, gagana lang to kapag ginamit mo ung , (comma) to append string in the print function\n",
    "2. end (string) [default: \"\\n\"] - bale ito ung last character sa print\n",
    "3. file (string) - bale ito naman ay nagamit ng file or ipiprint mo ung content ng buong file using print ganun\n",
    "4. flush (boolean) [default: False] - basically, ito ung gamit ko sa typing text sa python, kaso naka loop un, pero may flush un, kumbaga, it is to do a work while working on it ganun."
   ]
  },
  {
   "cell_type": "code",
   "execution_count": 17,
   "id": "11ab36b3",
   "metadata": {},
   "outputs": [
    {
     "name": "stdout",
     "output_type": "stream",
     "text": [
      "Hello Nicole\n"
     ]
    }
   ],
   "source": [
    "# So dagdag ko lang ung formatted print text, so bale dito, lalagay ka lang ng f sa una, then {} for variables like this\n",
    "ninang = \"Nicole\"\n",
    "print(f\"Hello {ninang}\")"
   ]
  },
  {
   "cell_type": "code",
   "execution_count": 18,
   "id": "a64c7f4e",
   "metadata": {},
   "outputs": [
    {
     "name": "stdout",
     "output_type": "stream",
     "text": [
      "<class 'str'>\n",
      "<class 'int'>\n",
      "<class 'float'>\n",
      "<class 'bool'>\n"
     ]
    }
   ],
   "source": [
    "# Variables and datatypes\n",
    "# So sa python, there are 5 datatypes sa pagkakaalam ko, unlike sa Java na may walo.\n",
    "# 1. String (str): \"Hello World\"\n",
    "# 2. Integer: (int): 3\n",
    "# 3. Float: 1.5\n",
    "# 4. Boolean (bool): True\n",
    "txt = \"Hello world\"\n",
    "num = 3\n",
    "deci = 1.5\n",
    "boolean = True\n",
    "print(type(txt))\n",
    "print(type(num))\n",
    "print(type(deci))\n",
    "print(type(boolean))"
   ]
  },
  {
   "cell_type": "code",
   "execution_count": 19,
   "id": "78f6d5ad",
   "metadata": {},
   "outputs": [
    {
     "name": "stdout",
     "output_type": "stream",
     "text": [
      "Enter text: hello\n",
      "You entered: hello\n"
     ]
    }
   ],
   "source": [
    "# Next naman is input, so since nadiscuss ko na ung variables, mas madali na nating magagamit ung input\n",
    "# which is commonly uses variables\n",
    "text = input(\"Enter text: \")\n",
    "print(f\"You entered: {text}\")"
   ]
  },
  {
   "cell_type": "markdown",
   "id": "c711e73e",
   "metadata": {},
   "source": [
    "> So in the last cell, we discuss about the input, so commonly this function returns string value, so para maiba natin ang datatype nya, we may use:\n",
    "1. int()\n",
    "2. float()\n",
    "3. bool()"
   ]
  },
  {
   "cell_type": "code",
   "execution_count": 20,
   "id": "96342407",
   "metadata": {},
   "outputs": [
    {
     "name": "stdout",
     "output_type": "stream",
     "text": [
      "Enter number: 5\n",
      "You entered a <class 'int'>: 5\n",
      "Enter number [float]: 4\n",
      "You entered a <class 'float'>: 4.0\n",
      "Enter True or False: True\n",
      "You entered a <class 'bool'>: True\n"
     ]
    }
   ],
   "source": [
    "num = input(\"Enter number: \")\n",
    "print(f\"You entered a {type(int(num))}: {int(num)}\")\n",
    "deci = input(\"Enter number [float]: \")\n",
    "print(f\"You entered a {type(float(deci))}: {float(deci)}\")\n",
    "boolean = input(\"Enter True or False: \")\n",
    "print(f\"You entered a {type(bool(boolean))}: {bool(boolean)}\")"
   ]
  },
  {
   "cell_type": "markdown",
   "id": "b19db2ec",
   "metadata": {},
   "source": [
    "> So mostly naka base lang sa datatype ung gagamitin mo ir class kumbaga, so kung datatype to string, use str() ganun lang."
   ]
  },
  {
   "cell_type": "code",
   "execution_count": 21,
   "id": "1b5375df",
   "metadata": {},
   "outputs": [
    {
     "name": "stdout",
     "output_type": "stream",
     "text": [
      "Enter a one line program: print(\"Hello\")\n",
      "Hello\n",
      "None\n"
     ]
    }
   ],
   "source": [
    "# Next is eval function or evaluation. Actually, hindi sya pangconvert ng string to int\n",
    "# But this is to evaluate the string (as program)\n",
    "text = input(\"Enter a one line program: \")\n",
    "print(eval(text))"
   ]
  },
  {
   "cell_type": "markdown",
   "id": "d2230cdc",
   "metadata": {},
   "source": [
    "> As being mentioned, this is to evaluate the program kumbaga, and for me, eval is also the logic behind Jupyter Notebook, which is ginawan ko din ng sariling program. Actually, di lang naman programs ang pwede, kundi even computations like 1 + 1 mga ganyan."
   ]
  },
  {
   "cell_type": "code",
   "execution_count": 22,
   "id": "782cce87",
   "metadata": {},
   "outputs": [
    {
     "name": "stdout",
     "output_type": "stream",
     "text": [
      "Enter an equation: 7 + 7 - 7 / 7 * 0\n",
      "14.0\n"
     ]
    }
   ],
   "source": [
    "equation = input(\"Enter an equation: \")\n",
    "print(eval(equation))"
   ]
  },
  {
   "cell_type": "markdown",
   "id": "be37dd62",
   "metadata": {},
   "source": [
    "### Operators\n",
    "> So now, operators naman"
   ]
  },
  {
   "cell_type": "code",
   "execution_count": 23,
   "id": "c48d8af8",
   "metadata": {},
   "outputs": [
    {
     "name": "stdout",
     "output_type": "stream",
     "text": [
      "Plus 2\n",
      "Minus 9\n",
      "Multiply 25\n",
      "Divide 7.0\n",
      "Exponential 125\n",
      "Floor Division 3\n"
     ]
    }
   ],
   "source": [
    "# Artithmetic Operators\n",
    "plus = 1 + 1\n",
    "minus = 10 - 1\n",
    "times = 5 * 5\n",
    "divide = 21 / 3\n",
    "modulo = 9 % 2 # remainer\n",
    "exponential = 5 ** 3\n",
    "floor_div = 10 // 3\n",
    "\n",
    "print(f\"Plus {plus}\")\n",
    "print(f\"Minus {minus}\")\n",
    "print(f\"Multiply {times}\")\n",
    "print(f\"Divide {divide}\")\n",
    "print(f\"Exponential {exponential}\")\n",
    "print(f\"Floor Division {floor_div}\")"
   ]
  },
  {
   "cell_type": "code",
   "execution_count": 24,
   "id": "9c4c07ed",
   "metadata": {},
   "outputs": [
    {
     "name": "stdout",
     "output_type": "stream",
     "text": [
      "True\n",
      "True\n",
      "True\n",
      "False\n",
      "False\n",
      "False\n"
     ]
    }
   ],
   "source": [
    "# Relational Operators\n",
    "# Karaniwang result naman dito ay boolean\n",
    "# Pwede ding pag set ng data sa isang variable\n",
    "x = 5\n",
    "print(f\"{x == 5}\")\n",
    "print(f\"{x <= 5}\")\n",
    "print(f\"{x >= 5}\")\n",
    "print(f\"{x < 5}\")\n",
    "print(f\"{x > 5}\")\n",
    "print(f\"{x != 5}\")"
   ]
  },
  {
   "cell_type": "markdown",
   "id": "a47183e0",
   "metadata": {},
   "source": [
    "> As you notice, karaniwang result nya is boolean, may ibang languages na may === or 3 equals, which means dapat same value and same datatype"
   ]
  },
  {
   "cell_type": "code",
   "execution_count": 25,
   "id": "229714e5",
   "metadata": {},
   "outputs": [
    {
     "name": "stdout",
     "output_type": "stream",
     "text": [
      "And: False\n",
      "OR: True\n",
      "NOT: False\n",
      "NOT: True\n"
     ]
    }
   ],
   "source": [
    "# Logical Operators\n",
    "# ito ay karaniwang boolean din, pero gamitin sya sa condition\n",
    "print(f\"And: {True and False}\")\n",
    "print(f\"OR: {True or False}\")\n",
    "print(f\"NOT: {not True}\")\n",
    "print(f\"NOT: {not False}\")"
   ]
  },
  {
   "cell_type": "markdown",
   "id": "cfd4d7a8",
   "metadata": {},
   "source": [
    "> Since nakita mo na naman ung mga boolean result doon sa cell sa taas, ginamit ko na lang ang boolean sa cell na ito, para di masyadong mahaba ang code kumbaga, meaning to say, para mas mapaikli ganun."
   ]
  },
  {
   "cell_type": "code",
   "execution_count": 26,
   "id": "eafa5f68",
   "metadata": {},
   "outputs": [
    {
     "name": "stdout",
     "output_type": "stream",
     "text": [
      "Number: 10\n",
      "Text: Hello Ninang\n"
     ]
    }
   ],
   "source": [
    "# Bitwise Operator or Assignment Operators\n",
    "# But I call this shorthand operators sa ibang operator\n",
    "# karaniwan nito is mga Arithmetic Operators, with = like\n",
    "x = 5\n",
    "x += 5\n",
    "print(f\"Number: {x}\")\n",
    "\n",
    "# So pwede din sya na parang ganito\n",
    "# +=, -=, *-, /=, %=, **=, //=\n",
    "# Bale di ko na ginawan ng example ung iba.\n",
    "# Bale pwede din palang magamit for stirng concatination ung += like\n",
    "\n",
    "y = \"Hello \"\n",
    "y += \"Ninang\"\n",
    "print(f\"Text: {y}\")"
   ]
  },
  {
   "cell_type": "code",
   "execution_count": 27,
   "id": "3060c919",
   "metadata": {},
   "outputs": [
    {
     "name": "stdout",
     "output_type": "stream",
     "text": [
      "IF Hi\n",
      "ELSE Hello\n",
      "ELIF Hello\n",
      "ELIF Hello\n"
     ]
    }
   ],
   "source": [
    "# Next is Conditional\n",
    "# may 3 types to, if else at elif\n",
    "\n",
    "# IF (only)\n",
    "if True:\n",
    "    print(\"IF Hi\")\n",
    "\n",
    "# With else\n",
    "if False:\n",
    "    print(\"IF Hi\")\n",
    "else:\n",
    "    print(\"ELSE Hello\")\n",
    "\n",
    "# With Elif (and else)\n",
    "if False:\n",
    "    print(\"IF Hi\")\n",
    "elif True:\n",
    "    print(\"ELIF Hello\")\n",
    "else:\n",
    "    print(\"ELSE Ninang\")\n",
    "\n",
    "if False:\n",
    "    print(\"IF Hi\")\n",
    "elif True:\n",
    "    print(\"ELIF Hello\")\n",
    "\n",
    "# Pwede mong magamit si elif without else\n",
    "# Pero, di mo pedeng gamitin si elif at else ng walang if"
   ]
  },
  {
   "cell_type": "markdown",
   "id": "5d536617",
   "metadata": {},
   "source": [
    "> Just to understand the code faster, I use Jupyter Notebook, para kahit hindi mo na irun, or diretso na ang output thru browser. Pwede mo ding itest ung mga code thru IDE na gamit mo."
   ]
  },
  {
   "cell_type": "code",
   "execution_count": 28,
   "id": "4e871949",
   "metadata": {},
   "outputs": [
    {
     "name": "stdout",
     "output_type": "stream",
     "text": [
      "0\n",
      "1\n",
      "2\n",
      "3\n",
      "4\n",
      "5\n",
      "6\n",
      "7\n",
      "8\n",
      "9\n"
     ]
    }
   ],
   "source": [
    "# Next is loop\n",
    "# for this cell, for loop muna\n",
    "\n",
    "for i in range(10):\n",
    "    print(i)\n",
    "\n",
    "# if you read this like an english language, ganito sya\n",
    "# for i is in the range of 10, then print the i"
   ]
  },
  {
   "cell_type": "markdown",
   "id": "947a39c9",
   "metadata": {},
   "source": [
    "> in defined as include sa python, so once na true pa ang conditional statement, the loop will going to repeat"
   ]
  },
  {
   "cell_type": "code",
   "execution_count": 29,
   "id": "22138e15",
   "metadata": {},
   "outputs": [
    {
     "name": "stdout",
     "output_type": "stream",
     "text": [
      "h\n",
      "0\n",
      "1\n",
      "2\n",
      "3\n",
      "4\n",
      "5\n",
      "6\n",
      "7\n",
      "8\n",
      "9\n"
     ]
    }
   ],
   "source": [
    "# while loop\n",
    "print(\"h\")\n",
    "\n",
    "i = 0\n",
    "while i < 10:\n",
    "    print(i)\n",
    "    i += 1\n"
   ]
  },
  {
   "cell_type": "markdown",
   "id": "f963698e",
   "metadata": {},
   "source": [
    "> Dito karaniwang may error, lalo na kung style ng for loop lang ang gagawin, kasi madalas nakakalimot tayo ng pandagdag or increment, or pag bawas o decrement. Minsan ung pang break din ng loop, kaya nagkakaroon ng cause ng infinite loop ganun."
   ]
  },
  {
   "cell_type": "code",
   "execution_count": 31,
   "id": "fe2a0811",
   "metadata": {},
   "outputs": [
    {
     "name": "stdout",
     "output_type": "stream",
     "text": [
      "1 2 3 4 5 6 7 8 9 10 \n",
      "2 4 6 8 10 12 14 16 18 20 \n",
      "3 6 9 12 15 18 21 24 27 30 \n",
      "4 8 12 16 20 24 28 32 36 40 \n",
      "5 10 15 20 25 30 35 40 45 50 \n",
      "6 12 18 24 30 36 42 48 54 60 \n",
      "7 14 21 28 35 42 49 56 63 70 \n",
      "8 16 24 32 40 48 56 64 72 80 \n",
      "9 18 27 36 45 54 63 72 81 90 \n",
      "10 20 30 40 50 60 70 80 90 100 \n"
     ]
    }
   ],
   "source": [
    "# Nested loop\n",
    "\n",
    "for i in range(1, 11):\n",
    "    # Vertical process\n",
    "    for j in range(1, 11):\n",
    "        # Horizontal process\n",
    "        # the end=\" \" is the reason kaya naging horizontal sya\n",
    "        print(i * j, end=\" \")\n",
    "    # itong print na to ang reason kaya sya naging vertical\n",
    "    print(\"\")"
   ]
  },
  {
   "cell_type": "code",
   "execution_count": 34,
   "id": "aabc42c3",
   "metadata": {},
   "outputs": [
    {
     "name": "stdout",
     "output_type": "stream",
     "text": [
      "Hello World\n"
     ]
    }
   ],
   "source": [
    "# Next is function\n",
    "# since alam mo na ung print at inpu, which are examples of built-in functions\n",
    "# gagawa naman tayo ng user function kumbaga\n",
    "\n",
    "def call(txt):\n",
    "    print(txt)\n",
    "\n",
    "# If you remove this,the error was shown below\n",
    "# def call(txt, num):\n",
    "#    print(txt, num)\n",
    "\n",
    "call(\"Hello World\")"
   ]
  },
  {
   "cell_type": "markdown",
   "id": "e358a717",
   "metadata": {},
   "source": [
    "> Pwedeng walang parameter jan, pero sa ibang PL, pwede ung same na functions but different parameters, pero sa python lalabas tong error na to:\n",
    "```\n",
    "---------------------------------------------------------------------------\n",
    "TypeError                                 Traceback (most recent call last)\n",
    "Cell In[33], line 11\n",
    "      8 def call(txt, num):\n",
    "      9     print(txt, num)\n",
    "---> 11 call(\"Hello World\")\n",
    "\n",
    "TypeError: call() missing 1 required positional argument: 'num'\n",
    "```\n",
    "\n",
    "> Kumbaga, ma ooverwrite ung first function ng second function, but in Java, pwede sya like this\n",
    "```JAVA\n",
    "public static void call(String str){\n",
    "    System.out.println(str);\n",
    "}\n",
    "\n",
    "public static void call(String str, int num){\n",
    "    System.out.println(str + String.valueOf(num));\n",
    "}\n",
    "\n",
    "```"
   ]
  },
  {
   "cell_type": "markdown",
   "id": "6b2aba20",
   "metadata": {},
   "source": [
    "> So now, ito na lang muna, aupdate ko na lang to one time, but if you're interested sa more complex type of code, pwede ko pa namang iupdate to."
   ]
  },
  {
   "cell_type": "code",
   "execution_count": 1,
   "id": "c78f23a9",
   "metadata": {},
   "outputs": [
    {
     "name": "stdout",
     "output_type": "stream",
     "text": [
      "[1, 2, 3, 4, 5]\n"
     ]
    }
   ],
   "source": [
    "# Array\n",
    "# This is one of the easies way to understand this, bale iconsider mo lang si zero na may value.\n",
    "# Logically, also sa buhay natin, nag start tayo sa wala, so programatically, magsisimula din tayo sa wala\n",
    "\n",
    "lists = [1, 2, 3, 4, 5]\n",
    "print(lists)"
   ]
  },
  {
   "cell_type": "markdown",
   "id": "a80b497f",
   "metadata": {},
   "source": [
    "> As you can see, nag print lang ako in array, now let's use this into a loop array"
   ]
  },
  {
   "cell_type": "code",
   "execution_count": 3,
   "id": "36b1ceac",
   "metadata": {},
   "outputs": [
    {
     "name": "stdout",
     "output_type": "stream",
     "text": [
      "1\n",
      "2\n",
      "3\n",
      "4\n",
      "5\n"
     ]
    }
   ],
   "source": [
    "# We don't need to re-initiate the lists, kasi meron na sya sa taas\n",
    "# Sa Jupyter Notebook, pwede mo syang icall ng kahit nasaan, yan ang isang kagandahan kay Jupyter Notebook\n",
    "\n",
    "for i in lists:\n",
    "\tprint(i)"
   ]
  },
  {
   "cell_type": "markdown",
   "id": "c99e8007",
   "metadata": {},
   "source": [
    "> So sa last cell, I use the for loop, without using range methos, pero pwede din naman syang may range, kung sa java yan, ganito yan\n",
    "```Java\n",
    "int[] lists = new int[]{1, 2, 3, 4, 5};\n",
    "for(int i : lists){\n",
    "\tSystem.out.println(i);\n",
    "}\n",
    "```\n",
    "\n",
    "> The next cell wiull going to represent the use of array loop with range, also the len, which means length."
   ]
  },
  {
   "cell_type": "code",
   "execution_count": 4,
   "id": "c122b556",
   "metadata": {},
   "outputs": [
    {
     "name": "stdout",
     "output_type": "stream",
     "text": [
      "1\n",
      "2\n",
      "3\n",
      "4\n",
      "5\n"
     ]
    }
   ],
   "source": [
    "for i in range(len(lists)):\n",
    "\tprint(lists[i])"
   ]
  },
  {
   "cell_type": "code",
   "execution_count": 6,
   "id": "d41f8549",
   "metadata": {},
   "outputs": [
    {
     "name": "stdout",
     "output_type": "stream",
     "text": [
      "You entered kjdhfiuks\n",
      "I said enter a number\n"
     ]
    }
   ],
   "source": [
    "# Error handling\n",
    "# Basically, ito ung taga maintain ng program para di basta ma terminate kapag may error\n",
    "\n",
    "_input = input(\"Enter a number: \")\n",
    "print(f\"You entered {_input}\")\n",
    "try:\n",
    "\tprint(int(_input))\n",
    "except:\n",
    "\tprint(\"I said enter a number\")"
   ]
  },
  {
   "cell_type": "markdown",
   "id": "8374f7c9",
   "metadata": {},
   "source": [
    "> So, as you can see, dapat lalabas jan is error, so nung ginamitan ko ng try except o try catch sa java, mas madaling mauunawaaan ni user ang problema. Try natin ang same code but different in imput."
   ]
  },
  {
   "cell_type": "code",
   "execution_count": 7,
   "id": "376dd56a",
   "metadata": {},
   "outputs": [
    {
     "name": "stdout",
     "output_type": "stream",
     "text": [
      "You entered 5\n",
      "5\n"
     ]
    }
   ],
   "source": [
    "# Error handling\n",
    "# Basically, ito ung taga maintain ng program para di basta ma terminate kapag may error\n",
    "\n",
    "_input = input(\"Enter a number: \")\n",
    "print(f\"You entered {_input}\")\n",
    "try:\n",
    "\tprint(int(_input))\n",
    "except:\n",
    "\tprint(\"I said enter a number\")"
   ]
  },
  {
   "cell_type": "markdown",
   "id": "19ef8032",
   "metadata": {},
   "source": [
    "> So ganito naman ang result, kapag tama ung nilagay, same sa nauna na di nag terminate ang program, pero magkaiba ng input."
   ]
  }
 ],
 "metadata": {
  "kernelspec": {
   "display_name": "Python 3.11.0 64-bit",
   "language": "python",
   "name": "python3"
  },
  "language_info": {
   "codemirror_mode": {
    "name": "ipython",
    "version": 3
   },
   "file_extension": ".py",
   "mimetype": "text/x-python",
   "name": "python",
   "nbconvert_exporter": "python",
   "pygments_lexer": "ipython3",
   "version": "3.11.0"
  },
  "vscode": {
   "interpreter": {
    "hash": "5ffd7eb2cebf9ac436b5021ba01877e9cee6b03524e01bf8c8637d3e64111215"
   }
  }
 },
 "nbformat": 4,
 "nbformat_minor": 5
}
